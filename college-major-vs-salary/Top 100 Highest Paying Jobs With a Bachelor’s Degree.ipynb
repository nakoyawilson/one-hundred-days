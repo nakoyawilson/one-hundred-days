{
 "cells": [
  {
   "cell_type": "code",
   "execution_count": 1,
   "id": "a2604b6a",
   "metadata": {},
   "outputs": [],
   "source": [
    "import pandas as pd"
   ]
  },
  {
   "cell_type": "code",
   "execution_count": 2,
   "id": "382a2c36",
   "metadata": {},
   "outputs": [],
   "source": [
    "df = pd.read_csv('highest_paying_jobs_2021.csv')"
   ]
  },
  {
   "cell_type": "code",
   "execution_count": 3,
   "id": "b51a73f0",
   "metadata": {},
   "outputs": [
    {
     "data": {
      "text/html": [
       "<div>\n",
       "<style scoped>\n",
       "    .dataframe tbody tr th:only-of-type {\n",
       "        vertical-align: middle;\n",
       "    }\n",
       "\n",
       "    .dataframe tbody tr th {\n",
       "        vertical-align: top;\n",
       "    }\n",
       "\n",
       "    .dataframe thead th {\n",
       "        text-align: right;\n",
       "    }\n",
       "</style>\n",
       "<table border=\"1\" class=\"dataframe\">\n",
       "  <thead>\n",
       "    <tr style=\"text-align: right;\">\n",
       "      <th></th>\n",
       "      <th>Rank</th>\n",
       "      <th>Major</th>\n",
       "      <th>Degree Type</th>\n",
       "      <th>Early Career Pay</th>\n",
       "      <th>Mid-Career Pay</th>\n",
       "      <th>% High Meaning</th>\n",
       "    </tr>\n",
       "  </thead>\n",
       "  <tbody>\n",
       "    <tr>\n",
       "      <th>0</th>\n",
       "      <td>1</td>\n",
       "      <td>Petroleum Engineering</td>\n",
       "      <td>Bachelors</td>\n",
       "      <td>93200</td>\n",
       "      <td>187300</td>\n",
       "      <td>67%</td>\n",
       "    </tr>\n",
       "    <tr>\n",
       "      <th>1</th>\n",
       "      <td>2</td>\n",
       "      <td>Operations Research &amp; Industrial Engineering</td>\n",
       "      <td>Bachelors</td>\n",
       "      <td>84800</td>\n",
       "      <td>170400</td>\n",
       "      <td>28%</td>\n",
       "    </tr>\n",
       "    <tr>\n",
       "      <th>2</th>\n",
       "      <td>3</td>\n",
       "      <td>Electrical Engineering &amp; Computer Science (EECS)</td>\n",
       "      <td>Bachelors</td>\n",
       "      <td>108500</td>\n",
       "      <td>159300</td>\n",
       "      <td>46%</td>\n",
       "    </tr>\n",
       "    <tr>\n",
       "      <th>3</th>\n",
       "      <td>4</td>\n",
       "      <td>Interaction Design</td>\n",
       "      <td>Bachelors</td>\n",
       "      <td>68300</td>\n",
       "      <td>155800</td>\n",
       "      <td>55%</td>\n",
       "    </tr>\n",
       "    <tr>\n",
       "      <th>4</th>\n",
       "      <td>5</td>\n",
       "      <td>Public Accounting</td>\n",
       "      <td>Bachelors</td>\n",
       "      <td>59800</td>\n",
       "      <td>147700</td>\n",
       "      <td>47%</td>\n",
       "    </tr>\n",
       "  </tbody>\n",
       "</table>\n",
       "</div>"
      ],
      "text/plain": [
       "   Rank                                             Major Degree Type  \\\n",
       "0     1                             Petroleum Engineering   Bachelors   \n",
       "1     2      Operations Research & Industrial Engineering   Bachelors   \n",
       "2     3  Electrical Engineering & Computer Science (EECS)   Bachelors   \n",
       "3     4                                Interaction Design   Bachelors   \n",
       "4     5                                 Public Accounting   Bachelors   \n",
       "\n",
       "   Early Career Pay  Mid-Career Pay % High Meaning  \n",
       "0             93200          187300            67%  \n",
       "1             84800          170400            28%  \n",
       "2            108500          159300            46%  \n",
       "3             68300          155800            55%  \n",
       "4             59800          147700            47%  "
      ]
     },
     "execution_count": 3,
     "metadata": {},
     "output_type": "execute_result"
    }
   ],
   "source": [
    "df.head()"
   ]
  },
  {
   "cell_type": "code",
   "execution_count": 4,
   "id": "541abaf3",
   "metadata": {},
   "outputs": [
    {
     "data": {
      "text/plain": [
       "(100, 6)"
      ]
     },
     "execution_count": 4,
     "metadata": {},
     "output_type": "execute_result"
    }
   ],
   "source": [
    "df.shape"
   ]
  },
  {
   "cell_type": "code",
   "execution_count": 5,
   "id": "6e5ec236",
   "metadata": {},
   "outputs": [
    {
     "data": {
      "text/plain": [
       "Index(['Rank', 'Major', 'Degree Type', 'Early Career Pay', 'Mid-Career Pay',\n",
       "       '% High Meaning'],\n",
       "      dtype='object')"
      ]
     },
     "execution_count": 5,
     "metadata": {},
     "output_type": "execute_result"
    }
   ],
   "source": [
    "df.columns"
   ]
  },
  {
   "cell_type": "code",
   "execution_count": 6,
   "id": "ccd8a91d",
   "metadata": {},
   "outputs": [
    {
     "data": {
      "text/html": [
       "<div>\n",
       "<style scoped>\n",
       "    .dataframe tbody tr th:only-of-type {\n",
       "        vertical-align: middle;\n",
       "    }\n",
       "\n",
       "    .dataframe tbody tr th {\n",
       "        vertical-align: top;\n",
       "    }\n",
       "\n",
       "    .dataframe thead th {\n",
       "        text-align: right;\n",
       "    }\n",
       "</style>\n",
       "<table border=\"1\" class=\"dataframe\">\n",
       "  <thead>\n",
       "    <tr style=\"text-align: right;\">\n",
       "      <th></th>\n",
       "      <th>Rank</th>\n",
       "      <th>Major</th>\n",
       "      <th>Degree Type</th>\n",
       "      <th>Early Career Pay</th>\n",
       "      <th>Mid-Career Pay</th>\n",
       "      <th>% High Meaning</th>\n",
       "    </tr>\n",
       "  </thead>\n",
       "  <tbody>\n",
       "    <tr>\n",
       "      <th>0</th>\n",
       "      <td>False</td>\n",
       "      <td>False</td>\n",
       "      <td>False</td>\n",
       "      <td>False</td>\n",
       "      <td>False</td>\n",
       "      <td>False</td>\n",
       "    </tr>\n",
       "    <tr>\n",
       "      <th>1</th>\n",
       "      <td>False</td>\n",
       "      <td>False</td>\n",
       "      <td>False</td>\n",
       "      <td>False</td>\n",
       "      <td>False</td>\n",
       "      <td>False</td>\n",
       "    </tr>\n",
       "    <tr>\n",
       "      <th>2</th>\n",
       "      <td>False</td>\n",
       "      <td>False</td>\n",
       "      <td>False</td>\n",
       "      <td>False</td>\n",
       "      <td>False</td>\n",
       "      <td>False</td>\n",
       "    </tr>\n",
       "    <tr>\n",
       "      <th>3</th>\n",
       "      <td>False</td>\n",
       "      <td>False</td>\n",
       "      <td>False</td>\n",
       "      <td>False</td>\n",
       "      <td>False</td>\n",
       "      <td>False</td>\n",
       "    </tr>\n",
       "    <tr>\n",
       "      <th>4</th>\n",
       "      <td>False</td>\n",
       "      <td>False</td>\n",
       "      <td>False</td>\n",
       "      <td>False</td>\n",
       "      <td>False</td>\n",
       "      <td>False</td>\n",
       "    </tr>\n",
       "    <tr>\n",
       "      <th>...</th>\n",
       "      <td>...</td>\n",
       "      <td>...</td>\n",
       "      <td>...</td>\n",
       "      <td>...</td>\n",
       "      <td>...</td>\n",
       "      <td>...</td>\n",
       "    </tr>\n",
       "    <tr>\n",
       "      <th>95</th>\n",
       "      <td>False</td>\n",
       "      <td>False</td>\n",
       "      <td>False</td>\n",
       "      <td>False</td>\n",
       "      <td>False</td>\n",
       "      <td>False</td>\n",
       "    </tr>\n",
       "    <tr>\n",
       "      <th>96</th>\n",
       "      <td>False</td>\n",
       "      <td>False</td>\n",
       "      <td>False</td>\n",
       "      <td>False</td>\n",
       "      <td>False</td>\n",
       "      <td>False</td>\n",
       "    </tr>\n",
       "    <tr>\n",
       "      <th>97</th>\n",
       "      <td>False</td>\n",
       "      <td>False</td>\n",
       "      <td>False</td>\n",
       "      <td>False</td>\n",
       "      <td>False</td>\n",
       "      <td>False</td>\n",
       "    </tr>\n",
       "    <tr>\n",
       "      <th>98</th>\n",
       "      <td>False</td>\n",
       "      <td>False</td>\n",
       "      <td>False</td>\n",
       "      <td>False</td>\n",
       "      <td>False</td>\n",
       "      <td>False</td>\n",
       "    </tr>\n",
       "    <tr>\n",
       "      <th>99</th>\n",
       "      <td>False</td>\n",
       "      <td>False</td>\n",
       "      <td>False</td>\n",
       "      <td>False</td>\n",
       "      <td>False</td>\n",
       "      <td>False</td>\n",
       "    </tr>\n",
       "  </tbody>\n",
       "</table>\n",
       "<p>100 rows × 6 columns</p>\n",
       "</div>"
      ],
      "text/plain": [
       "     Rank  Major  Degree Type  Early Career Pay  Mid-Career Pay  \\\n",
       "0   False  False        False             False           False   \n",
       "1   False  False        False             False           False   \n",
       "2   False  False        False             False           False   \n",
       "3   False  False        False             False           False   \n",
       "4   False  False        False             False           False   \n",
       "..    ...    ...          ...               ...             ...   \n",
       "95  False  False        False             False           False   \n",
       "96  False  False        False             False           False   \n",
       "97  False  False        False             False           False   \n",
       "98  False  False        False             False           False   \n",
       "99  False  False        False             False           False   \n",
       "\n",
       "    % High Meaning  \n",
       "0            False  \n",
       "1            False  \n",
       "2            False  \n",
       "3            False  \n",
       "4            False  \n",
       "..             ...  \n",
       "95           False  \n",
       "96           False  \n",
       "97           False  \n",
       "98           False  \n",
       "99           False  \n",
       "\n",
       "[100 rows x 6 columns]"
      ]
     },
     "execution_count": 6,
     "metadata": {},
     "output_type": "execute_result"
    }
   ],
   "source": [
    "df.isna()"
   ]
  },
  {
   "cell_type": "code",
   "execution_count": 7,
   "id": "54233b4d",
   "metadata": {},
   "outputs": [
    {
     "data": {
      "text/plain": [
       "108500"
      ]
     },
     "execution_count": 7,
     "metadata": {},
     "output_type": "execute_result"
    }
   ],
   "source": [
    "df['Early Career Pay'].max()"
   ]
  },
  {
   "cell_type": "code",
   "execution_count": 8,
   "id": "013d122b",
   "metadata": {},
   "outputs": [
    {
     "data": {
      "text/plain": [
       "2"
      ]
     },
     "execution_count": 8,
     "metadata": {},
     "output_type": "execute_result"
    }
   ],
   "source": [
    "df['Early Career Pay'].idxmax()"
   ]
  },
  {
   "cell_type": "code",
   "execution_count": 9,
   "id": "596f8bda",
   "metadata": {},
   "outputs": [
    {
     "data": {
      "text/plain": [
       "'Electrical Engineering & Computer Science (EECS)'"
      ]
     },
     "execution_count": 9,
     "metadata": {},
     "output_type": "execute_result"
    }
   ],
   "source": [
    "# Major with the highest Early Career Pay\n",
    "df['Major'].loc[2]"
   ]
  },
  {
   "cell_type": "code",
   "execution_count": 10,
   "id": "475c8941",
   "metadata": {},
   "outputs": [
    {
     "data": {
      "text/plain": [
       "47700"
      ]
     },
     "execution_count": 10,
     "metadata": {},
     "output_type": "execute_result"
    }
   ],
   "source": [
    "df['Early Career Pay'].min()"
   ]
  },
  {
   "cell_type": "code",
   "execution_count": 11,
   "id": "f6cf1bf2",
   "metadata": {},
   "outputs": [
    {
     "data": {
      "text/plain": [
       "95"
      ]
     },
     "execution_count": 11,
     "metadata": {},
     "output_type": "execute_result"
    }
   ],
   "source": [
    "df['Early Career Pay'].idxmin()"
   ]
  },
  {
   "cell_type": "code",
   "execution_count": 12,
   "id": "8be732dd",
   "metadata": {},
   "outputs": [
    {
     "data": {
      "text/plain": [
       "'Asian Studies'"
      ]
     },
     "execution_count": 12,
     "metadata": {},
     "output_type": "execute_result"
    }
   ],
   "source": [
    "# Major with the lowest Early Career Pay\n",
    "df['Major'].loc[95]"
   ]
  },
  {
   "cell_type": "code",
   "execution_count": null,
   "id": "811d5633",
   "metadata": {},
   "outputs": [],
   "source": []
  }
 ],
 "metadata": {
  "kernelspec": {
   "display_name": "Python 3",
   "language": "python",
   "name": "python3"
  },
  "language_info": {
   "codemirror_mode": {
    "name": "ipython",
    "version": 3
   },
   "file_extension": ".py",
   "mimetype": "text/x-python",
   "name": "python",
   "nbconvert_exporter": "python",
   "pygments_lexer": "ipython3",
   "version": "3.8.8"
  }
 },
 "nbformat": 4,
 "nbformat_minor": 5
}
